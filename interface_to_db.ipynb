{
 "cells": [
  {
   "cell_type": "markdown",
   "id": "53c65a8b",
   "metadata": {},
   "source": [
    "## Description\n",
    "\n",
    "All functions for interfacing the course_schedule database in various ways.\n",
    "\n",
    "@author Gaurav Kuwar, Author B, Author C\n",
    "\n",
    "@version 1.00 May, 2022\n"
   ]
  },
  {
   "cell_type": "markdown",
   "id": "8c73767a",
   "metadata": {},
   "source": [
    "### Import Modules"
   ]
  },
  {
   "cell_type": "code",
   "execution_count": 16,
   "id": "56afe3b2",
   "metadata": {},
   "outputs": [],
   "source": [
    "# if the module is not installed yet, we pip install it\n",
    "# pip install mysql-connector-python\n",
    "import mysql.connector\n",
    "\n",
    "import numpy as np\n",
    "import pandas as pd"
   ]
  },
  {
   "cell_type": "markdown",
   "id": "a07411d7",
   "metadata": {},
   "source": [
    "### Get config Info"
   ]
  },
  {
   "cell_type": "code",
   "execution_count": 90,
   "id": "b89c5fe7",
   "metadata": {},
   "outputs": [],
   "source": [
    "def getConfig(authFn='auth.txt'):\n",
    "    \"\"\"\n",
    "        Reads and formats data from authFn returns it.\n",
    "    \"\"\"\n",
    "    # Read the authentication file\n",
    "    auth = np.loadtxt('auth.txt', dtype = str)\n",
    "    # Config dictionary\n",
    "    labels = ['username', 'password', 'host', 'database']\n",
    "    config = dict(zip(labels, list(auth)))\n",
    "    return config\n",
    "\n",
    "config = getConfig()"
   ]
  },
  {
   "cell_type": "markdown",
   "id": "02e64235",
   "metadata": {},
   "source": [
    "## All Modules\n",
    "\n",
    "List of functions we need:\n",
    "\n",
    "- populateRelation(relation, csvFile) - func to populate db from csv (prop just need 1)\n",
    "- selectAll(relation) - a func to SELECT * FROM table for a table\n",
    "\n",
    "- Professor\n",
    "    - SELECT\n",
    "        - selectAll(\"Professor\") but to get list of all prof\n",
    "    - INSERT\n",
    "        - addNewProf - insert a new prof record\n",
    "    - DELETE\n",
    "        - deleteProf delete a prof record (by professor_id)\n",
    "    - UPDATE\n",
    "        - updateProfInfo - change prof info (by professor_id)\n",
    "- Room\n",
    "    - SELECT\n",
    "        - roomsInBuilding(building_name) - get all rooms in a building\n",
    "        - allBuildings() - get list of all buildings\n",
    "    - INSERT\n",
    "        - add new room record\n",
    "    - DELETE\n",
    "        - remove a room record\n",
    "    - UPDATE\n",
    "        - change room info (based on room_id?)\n",
    "- Course\n",
    "    - SELECT\n",
    "        - selectAll(\"Courses\") - get list of all the courses\n",
    "        - get list of all the courses by department\n",
    "    - INSERT\n",
    "        - insert new course\n",
    "    - DELETE\n",
    "        - delete a course (based on course_num and department or based on id)\n",
    "    - UPDATE\n",
    "        - update a course  based on id\n",
    "- Class\n",
    "    - SELECT\n",
    "        - selectAll(\"Classes\") get list of all classes\n",
    "        - get list based on year\n",
    "        - get list based on year and term\n",
    "        - get list based on course_id\n",
    "        - get list based on course_id, year, term (all the sections of a course for a semester\"\n",
    "    - INSERT\n",
    "        - insert a new class record\n",
    "        - insert a new class record with section_id, room_id, year, term, professor_id, course_num, department, start_time, end_time and days_of_the_week.\n",
    "    - DELETE\n",
    "        - delete a class record based on section_id, course_id, year, term\n",
    "    - UPDATE\n",
    "        - update a class record based on section_id, course_id, year, term"
   ]
  },
  {
   "cell_type": "markdown",
   "id": "a307ca67",
   "metadata": {},
   "source": [
    "## Select all from Relation"
   ]
  },
  {
   "cell_type": "code",
   "execution_count": 81,
   "id": "c9dffc77",
   "metadata": {},
   "outputs": [],
   "source": [
    "def selectAll(relation, config=config):\n",
    "    \"\"\"\n",
    "        Takes a relation which the name of a relation in the database in config\n",
    "        and returns all rows in the relation.\n",
    "    \"\"\"\n",
    "    # Connection\n",
    "    conn = mysql.connector.connect(**config)\n",
    "    # Cursor\n",
    "    cursor = conn.cursor()\n",
    "    # SELECT query\n",
    "    query = (\"SELECT * FROM `{relation}`\".format(relation=relation))\n",
    "    # Run the query\n",
    "    cursor.execute(query)\n",
    "    col_names = cursor.column_names # get column names\n",
    "    # Fetch the results into a list\n",
    "    records = [record for record in cursor]\n",
    "    \n",
    "    # Close the cursor\n",
    "    cursor.close()\n",
    "    # Close the connection\n",
    "    conn.close()\n",
    "    \n",
    "    return pd.DataFrame(records, columns=col_names) # return as a pandas Dataframe (looks nicer)"
   ]
  },
  {
   "cell_type": "code",
   "execution_count": null,
   "id": "37eaecb3",
   "metadata": {},
   "outputs": [],
   "source": []
  },
  {
   "cell_type": "code",
   "execution_count": 77,
   "id": "a9530b17",
   "metadata": {},
   "outputs": [],
   "source": [
    "def allProfessors(config=config):\n",
    "    \"\"\"\n",
    "        Returns list of all professors in Professor relation and their info.\n",
    "    \"\"\"\n",
    "    return selectAll(\"Professor\", config=config)"
   ]
  },
  {
   "cell_type": "code",
   "execution_count": 78,
   "id": "94bf0fad",
   "metadata": {},
   "outputs": [],
   "source": [
    "def allCourses(config=config):\n",
    "    \"\"\"\n",
    "        Returns list of all courses in Course relation and their info.\n",
    "    \"\"\"\n",
    "    return selectAll(\"Course\", config=config)"
   ]
  },
  {
   "cell_type": "code",
   "execution_count": 79,
   "id": "bee1881e",
   "metadata": {},
   "outputs": [],
   "source": [
    "def allRooms(config=config):\n",
    "    \"\"\"\n",
    "        Returns list of all rooms in Room relation and their info.\n",
    "    \"\"\"\n",
    "    return selectAll(\"Room\", config=config)"
   ]
  },
  {
   "cell_type": "code",
   "execution_count": 80,
   "id": "6d21906d",
   "metadata": {},
   "outputs": [],
   "source": [
    "def allClasses(config=config):\n",
    "    \"\"\"\n",
    "        Returns list of all classes in Class relation and their info.\n",
    "    \"\"\"\n",
    "    return selectAll(\"Class\", config=config)"
   ]
  },
  {
   "cell_type": "code",
   "execution_count": null,
   "id": "c0304386",
   "metadata": {},
   "outputs": [],
   "source": []
  },
  {
   "cell_type": "code",
   "execution_count": null,
   "id": "b07ccf95",
   "metadata": {},
   "outputs": [],
   "source": []
  }
 ],
 "metadata": {
  "kernelspec": {
   "display_name": "Python 3 (ipykernel)",
   "language": "python",
   "name": "python3"
  },
  "language_info": {
   "codemirror_mode": {
    "name": "ipython",
    "version": 3
   },
   "file_extension": ".py",
   "mimetype": "text/x-python",
   "name": "python",
   "nbconvert_exporter": "python",
   "pygments_lexer": "ipython3",
   "version": "3.9.7"
  }
 },
 "nbformat": 4,
 "nbformat_minor": 5
}
